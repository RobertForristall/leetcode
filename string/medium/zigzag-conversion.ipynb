{
 "cells": [
  {
   "cell_type": "markdown",
   "metadata": {},
   "source": [
    "# Zigzag Conversion\n",
    "## Solution by Robert Forristall"
   ]
  },
  {
   "cell_type": "markdown",
   "metadata": {},
   "source": [
    "## Question\n",
    "The string \"PAYPALISHIRING\" is written in a zigzag pattern on a given number of rows like this: (you may want to display this pattern in a fixed font for better legibility)\n",
    "```\n",
    "P   A   H   N\n",
    "A P L S I I G\n",
    "Y   I   R\n",
    "```\n",
    "And then read line by line: \"PAHNAPLSIIGYIR\"\n",
    "\n",
    "Write the code that will take a string and make this conversion given a number of rows:\n",
    "\n",
    "string convert(string s, int numRows);\n",
    " \n",
    "\n",
    "Example 1:\n",
    "\n",
    "Input: s = \"PAYPALISHIRING\", numRows = 3\n",
    "Output: \"PAHNAPLSIIGYIR\"\n",
    "Example 2:\n",
    "\n",
    "Input: s = \"PAYPALISHIRING\", numRows = 4\n",
    "Output: \"PINALSIGYAHRPI\"\n",
    "Explanation:\n",
    "```\n",
    "P     I    N\n",
    "A   L S  I G\n",
    "Y A   H R\n",
    "P     I\n",
    "```\n",
    "Example 3:\n",
    "\n",
    "Input: s = \"A\", numRows = 1\n",
    "Output: \"A\"\n",
    " \n",
    "\n",
    "Constraints:\n",
    "\n",
    "1 <= s.length <= 1000\n",
    "s consists of English letters (lower-case and upper-case), ',' and '.'.\n",
    "1 <= numRows <= 1000"
   ]
  },
  {
   "cell_type": "markdown",
   "metadata": {},
   "source": [
    "## Thought Process\n",
    "\n",
    "The first step in the process is to handle any notable edge cases:\n",
    "- if the number of rows is equal to 1 then just return the string itself since there will be no ZigZagging\n",
    "\n",
    "Afterwards iterate through the string in a forward and backwards motion while appending each character to a 2D array of strings\n",
    "- if the iterating number `i` is equal to the `numRows` - 1 then begin moving backwards after appending\n",
    "- if the iterating number `i` is equal to 0 then begin moving forwards after appending"
   ]
  },
  {
   "cell_type": "markdown",
   "metadata": {},
   "source": [
    "## Solution Analysis\n",
    "\n",
    "Time Complexity: `O(n)` since the string of size `n` is iterated through once in the worst situation\n",
    "\n",
    "Space Complexity: `O(n)` since in the worst situation will include a new 2D array containing all of the characters in `s`"
   ]
  },
  {
   "cell_type": "code",
   "execution_count": null,
   "metadata": {},
   "outputs": [],
   "source": [
    "class Solution:\n",
    "    def convert(self, s: str, numRows: int) -> str:\n",
    "        if numRows == 1:\n",
    "            return s\n",
    "        zigzag = [[] for i in range(numRows)]\n",
    "        i = 0\n",
    "        forward = False\n",
    "        for char in s:\n",
    "            zigzag[i].append(char)\n",
    "            if i == numRows - 1:\n",
    "                forward = False\n",
    "            if i == 0:\n",
    "                forward = True\n",
    "            if forward:\n",
    "                i += 1\n",
    "            else:\n",
    "                i -= 1\n",
    "        return \"\".join([\"\".join(x) for x in zigzag])\n",
    "\n",
    "def evaluateResult(caseNum: int, answer: str, result: str):\n",
    "    success = result == answer\n",
    "    print(f\"Test Case {caseNum}: {'SUCCESS' if success else \"FAILED\"}\")\n",
    "    if not success:\n",
    "        print(\"Answer: \" + answer)\n",
    "        print(\"Result: \" + result)\n",
    "\n",
    "def runTestCase(caseNum, s, numRows, answer):\n",
    "    evaluateResult(caseNum, answer, Solution().convert(s, numRows))\n"
   ]
  },
  {
   "cell_type": "code",
   "execution_count": 25,
   "metadata": {},
   "outputs": [
    {
     "name": "stdout",
     "output_type": "stream",
     "text": [
      "Test Case 1: SUCCESS\n"
     ]
    }
   ],
   "source": [
    "#Test Case 1\n",
    "runTestCase(1, \"PAYPALISHIRING\", 3, \"PAHNAPLSIIGYIR\")"
   ]
  },
  {
   "cell_type": "code",
   "execution_count": 26,
   "metadata": {},
   "outputs": [
    {
     "name": "stdout",
     "output_type": "stream",
     "text": [
      "Test Case 2: SUCCESS\n"
     ]
    }
   ],
   "source": [
    "#Test Case 2\n",
    "runTestCase(2, \"PAYPALISHIRING\", 4, \"PINALSIGYAHRPI\")"
   ]
  },
  {
   "cell_type": "code",
   "execution_count": 27,
   "metadata": {},
   "outputs": [
    {
     "name": "stdout",
     "output_type": "stream",
     "text": [
      "Test Case 3: SUCCESS\n"
     ]
    }
   ],
   "source": [
    "#Test Case 3\n",
    "runTestCase(3, \"A\", 1, \"A\")"
   ]
  }
 ],
 "metadata": {
  "kernelspec": {
   "display_name": "Python 3",
   "language": "python",
   "name": "python3"
  },
  "language_info": {
   "codemirror_mode": {
    "name": "ipython",
    "version": 3
   },
   "file_extension": ".py",
   "mimetype": "text/x-python",
   "name": "python",
   "nbconvert_exporter": "python",
   "pygments_lexer": "ipython3",
   "version": "3.12.6"
  }
 },
 "nbformat": 4,
 "nbformat_minor": 2
}
